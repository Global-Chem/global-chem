{
 "cells": [
  {
   "cell_type": "code",
   "execution_count": null,
   "metadata": {
    "colab": {
     "base_uri": "https://localhost:8080/"
    },
    "id": "jRli3dAvOT12",
    "outputId": "ba7468c9-dcd2-46b5-c73f-d12793bb7602"
   },
   "outputs": [
    {
     "name": "stdout",
     "output_type": "stream",
     "text": [
      "\u001b[K     |████████████████████████████████| 71 kB 2.5 MB/s \n",
      "\u001b[K     |████████████████████████████████| 22.5 MB 1.5 MB/s \n",
      "\u001b[K     |████████████████████████████████| 2.3 MB 34.6 MB/s \n",
      "\u001b[K     |████████████████████████████████| 272 kB 32.6 MB/s \n",
      "\u001b[?25h  Building wheel for global-chem (setup.py) ... \u001b[?25l\u001b[?25hdone\n",
      "  Building wheel for global-chem-extensions (setup.py) ... \u001b[?25l\u001b[?25hdone\n",
      "Cloning into 'global-chem'...\n",
      "remote: Enumerating objects: 3670, done.\u001b[K\n",
      "remote: Counting objects: 100% (12/12), done.\u001b[K\n",
      "remote: Compressing objects: 100% (12/12), done.\u001b[K\n",
      "remote: Total 3670 (delta 6), reused 0 (delta 0), pack-reused 3658\u001b[K\n",
      "Receiving objects: 100% (3670/3670), 47.19 MiB | 10.62 MiB/s, done.\n",
      "Resolving deltas: 100% (2198/2198), done.\n"
     ]
    }
   ],
   "source": [
    "!pip install -q global-chem[bioinformatics] --upgrade\n",
    "!rm -rf global-chem/\n",
    "!git clone https://github.com/Sulstice/global-chem"
   ]
  },
  {
   "cell_type": "code",
   "execution_count": null,
   "metadata": {
    "colab": {
     "base_uri": "https://localhost:8080/"
    },
    "id": "QIJ_xFSqOaYJ",
    "outputId": "53dfbbf3-824b-4433-8ad9-eec230670624"
   },
   "outputs": [
    {
     "name": "stdout",
     "output_type": "stream",
     "text": [
      "<global_chem_extensions.bioinformatics.bioinformatics.Bioinformatics object at 0x7f8a927aa490>\n"
     ]
    }
   ],
   "source": [
    "from global_chem_extensions import GlobalChemExtensions\n",
    "\n",
    "bioinformatics = GlobalChemExtensions().bioinformatics()\n",
    "print (bioinformatics)"
   ]
  },
  {
   "cell_type": "code",
   "execution_count": null,
   "metadata": {
    "colab": {
     "base_uri": "https://localhost:8080/"
    },
    "id": "A2QNVPnsOWTw",
    "outputId": "1da3814d-8be0-470d-abb4-69875ae109f5"
   },
   "outputs": [
    {
     "name": "stdout",
     "output_type": "stream",
     "text": [
      "Passed Check 1 Molecular Weight: 433.08784608800005 \n",
      "Passed Check 2 Non Hydrogen Atoms: 29 \n",
      "Passed Check 3 All Atoms Are Within Element Boundaries\n",
      "Passed Check 4 Non-Hydrogen & Non-Carbon Atoms Present: 11\n",
      "Passed Check 5 Less than Two Phosphorous atoms Present\n",
      "Passed Check 6 Less than Ten Rotatable Bonds Present\n",
      "Passed Check 7 No Nucleic Acid Template Found\n",
      "Passed Check 9 Not a Covalent Inhibitor\n",
      "Check 11 Has Contacts within 7 Angstroms\n",
      "Ligand: CS(=O)(=O)N1CCOC(C1)c2csc(n2)c3ccccc3NC(=O)c4[nH]ccn4, Criteria Met: True\n",
      "Passed Check 1 Molecular Weight: 433.08784608800005 \n",
      "Passed Check 2 Non Hydrogen Atoms: 29 \n",
      "Passed Check 3 All Atoms Are Within Element Boundaries\n",
      "Passed Check 4 Non-Hydrogen & Non-Carbon Atoms Present: 11\n",
      "Passed Check 5 Less than Two Phosphorous atoms Present\n",
      "Passed Check 6 Less than Ten Rotatable Bonds Present\n",
      "Passed Check 7 No Nucleic Acid Template Found\n",
      "Passed Check 9 Not a Covalent Inhibitor\n",
      "Check 11 Has Contacts within 7 Angstroms\n",
      "Ligand: CS(=O)(=O)N1CCOC(C1)c2csc(n2)c3ccccc3NC(=O)c4[nH]ccn4, Criteria Met: True\n"
     ]
    }
   ],
   "source": [
    "# Check A List of Ligands\n",
    "\n",
    "pdb_ids = ['5tc0', '4EHM',]\n",
    "\n",
    "for pdb in pdb_ids:\n",
    "    gc_protein = bioinformatics.initialize_globalchem_protein(\n",
    "        pdb_id='5tc0',\n",
    "    )\n",
    "\n",
    "    criteria_met = gc_protein.determine_bostrom_ligand_criteria(verbose=True)\n",
    "    ligand_smiles = gc_protein.ligand_smiles\n",
    "\n",
    "    print (\"Ligand: %s, Criteria Met: %s\" % (ligand_smiles, criteria_met))"
   ]
  },
  {
   "cell_type": "code",
   "execution_count": null,
   "metadata": {
    "id": "ycEsIXWWOd_2"
   },
   "outputs": [],
   "source": [
    ""
   ]
  }
 ],
 "metadata": {
  "colab": {
   "name": "Bostrom_Algorithm.ipynb",
   "provenance": []
  },
  "kernelspec": {
   "name": "python3",
   "display_name": "Python 3"
  },
  "language_info": {
   "name": "python"
  }
 },
 "nbformat": 4,
 "nbformat_minor": 0
}
